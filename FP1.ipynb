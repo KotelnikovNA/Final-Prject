{
 "cells": [
  {
   "cell_type": "code",
   "execution_count": 3,
   "id": "f0181e24",
   "metadata": {},
   "outputs": [
    {
     "name": "stdout",
     "output_type": "stream",
     "text": [
      "Populating the interactive namespace from numpy and matplotlib\n"
     ]
    }
   ],
   "source": [
    "import numpy as np\n",
    "import pandas as pd\n",
    "import matplotlib.pyplot as plt\n",
    "\n",
    "from sklearn.linear_model import LinearRegression\n",
    "from catboost import CatBoostRegressor\n",
    "from sklearn.metrics import mean_absolute_error\n",
    "from sklearn.metrics import mean_absolute_percentage_error\n",
    "from sklearn.metrics import mean_squared_error\n",
    "from sklearn.model_selection import TimeSeriesSplit\n",
    "#from sklearn.metrics import root_mean_squared_error\n",
    "\n",
    "%pylab inline"
   ]
  },
  {
   "cell_type": "code",
   "execution_count": 4,
   "id": "25abe67c",
   "metadata": {},
   "outputs": [],
   "source": [
    "import optuna"
   ]
  },
  {
   "cell_type": "code",
   "execution_count": 47,
   "id": "1bdf4e0a",
   "metadata": {},
   "outputs": [
    {
     "data": {
      "text/html": [
       "<div>\n",
       "<style scoped>\n",
       "    .dataframe tbody tr th:only-of-type {\n",
       "        vertical-align: middle;\n",
       "    }\n",
       "\n",
       "    .dataframe tbody tr th {\n",
       "        vertical-align: top;\n",
       "    }\n",
       "\n",
       "    .dataframe thead th {\n",
       "        text-align: right;\n",
       "    }\n",
       "</style>\n",
       "<table border=\"1\" class=\"dataframe\">\n",
       "  <thead>\n",
       "    <tr style=\"text-align: right;\">\n",
       "      <th></th>\n",
       "      <th>date</th>\n",
       "      <th>date_block_num</th>\n",
       "      <th>shop_id</th>\n",
       "      <th>item_id</th>\n",
       "      <th>item_price</th>\n",
       "      <th>item_cnt_day</th>\n",
       "    </tr>\n",
       "  </thead>\n",
       "  <tbody>\n",
       "    <tr>\n",
       "      <th>0</th>\n",
       "      <td>02.01.2013</td>\n",
       "      <td>0</td>\n",
       "      <td>59</td>\n",
       "      <td>22154</td>\n",
       "      <td>999.00</td>\n",
       "      <td>1.0</td>\n",
       "    </tr>\n",
       "    <tr>\n",
       "      <th>1</th>\n",
       "      <td>03.01.2013</td>\n",
       "      <td>0</td>\n",
       "      <td>25</td>\n",
       "      <td>2552</td>\n",
       "      <td>899.00</td>\n",
       "      <td>1.0</td>\n",
       "    </tr>\n",
       "    <tr>\n",
       "      <th>2</th>\n",
       "      <td>05.01.2013</td>\n",
       "      <td>0</td>\n",
       "      <td>25</td>\n",
       "      <td>2552</td>\n",
       "      <td>899.00</td>\n",
       "      <td>-1.0</td>\n",
       "    </tr>\n",
       "    <tr>\n",
       "      <th>3</th>\n",
       "      <td>06.01.2013</td>\n",
       "      <td>0</td>\n",
       "      <td>25</td>\n",
       "      <td>2554</td>\n",
       "      <td>1709.05</td>\n",
       "      <td>1.0</td>\n",
       "    </tr>\n",
       "    <tr>\n",
       "      <th>4</th>\n",
       "      <td>15.01.2013</td>\n",
       "      <td>0</td>\n",
       "      <td>25</td>\n",
       "      <td>2555</td>\n",
       "      <td>1099.00</td>\n",
       "      <td>1.0</td>\n",
       "    </tr>\n",
       "  </tbody>\n",
       "</table>\n",
       "</div>"
      ],
      "text/plain": [
       "         date  date_block_num  shop_id  item_id  item_price  item_cnt_day\n",
       "0  02.01.2013               0       59    22154      999.00           1.0\n",
       "1  03.01.2013               0       25     2552      899.00           1.0\n",
       "2  05.01.2013               0       25     2552      899.00          -1.0\n",
       "3  06.01.2013               0       25     2554     1709.05           1.0\n",
       "4  15.01.2013               0       25     2555     1099.00           1.0"
      ]
     },
     "execution_count": 47,
     "metadata": {},
     "output_type": "execute_result"
    }
   ],
   "source": [
    "sales = pd.read_csv('sales_train.csv')\n",
    "sales.head(5)"
   ]
  },
  {
   "cell_type": "code",
   "execution_count": 48,
   "id": "8a30201f",
   "metadata": {},
   "outputs": [
    {
     "data": {
      "text/html": [
       "<div>\n",
       "<style scoped>\n",
       "    .dataframe tbody tr th:only-of-type {\n",
       "        vertical-align: middle;\n",
       "    }\n",
       "\n",
       "    .dataframe tbody tr th {\n",
       "        vertical-align: top;\n",
       "    }\n",
       "\n",
       "    .dataframe thead th {\n",
       "        text-align: right;\n",
       "    }\n",
       "</style>\n",
       "<table border=\"1\" class=\"dataframe\">\n",
       "  <thead>\n",
       "    <tr style=\"text-align: right;\">\n",
       "      <th></th>\n",
       "      <th>date_block_num</th>\n",
       "      <th>shop_id</th>\n",
       "      <th>item_id</th>\n",
       "      <th>item_price</th>\n",
       "      <th>item_cnt_day</th>\n",
       "    </tr>\n",
       "  </thead>\n",
       "  <tbody>\n",
       "    <tr>\n",
       "      <th>count</th>\n",
       "      <td>2.935849e+06</td>\n",
       "      <td>2.935849e+06</td>\n",
       "      <td>2.935849e+06</td>\n",
       "      <td>2.935849e+06</td>\n",
       "      <td>2.935849e+06</td>\n",
       "    </tr>\n",
       "    <tr>\n",
       "      <th>mean</th>\n",
       "      <td>1.456991e+01</td>\n",
       "      <td>3.300173e+01</td>\n",
       "      <td>1.019723e+04</td>\n",
       "      <td>8.908532e+02</td>\n",
       "      <td>1.242641e+00</td>\n",
       "    </tr>\n",
       "    <tr>\n",
       "      <th>std</th>\n",
       "      <td>9.422988e+00</td>\n",
       "      <td>1.622697e+01</td>\n",
       "      <td>6.324297e+03</td>\n",
       "      <td>1.729800e+03</td>\n",
       "      <td>2.618834e+00</td>\n",
       "    </tr>\n",
       "    <tr>\n",
       "      <th>min</th>\n",
       "      <td>0.000000e+00</td>\n",
       "      <td>0.000000e+00</td>\n",
       "      <td>0.000000e+00</td>\n",
       "      <td>-1.000000e+00</td>\n",
       "      <td>-2.200000e+01</td>\n",
       "    </tr>\n",
       "    <tr>\n",
       "      <th>25%</th>\n",
       "      <td>7.000000e+00</td>\n",
       "      <td>2.200000e+01</td>\n",
       "      <td>4.476000e+03</td>\n",
       "      <td>2.490000e+02</td>\n",
       "      <td>1.000000e+00</td>\n",
       "    </tr>\n",
       "    <tr>\n",
       "      <th>50%</th>\n",
       "      <td>1.400000e+01</td>\n",
       "      <td>3.100000e+01</td>\n",
       "      <td>9.343000e+03</td>\n",
       "      <td>3.990000e+02</td>\n",
       "      <td>1.000000e+00</td>\n",
       "    </tr>\n",
       "    <tr>\n",
       "      <th>75%</th>\n",
       "      <td>2.300000e+01</td>\n",
       "      <td>4.700000e+01</td>\n",
       "      <td>1.568400e+04</td>\n",
       "      <td>9.990000e+02</td>\n",
       "      <td>1.000000e+00</td>\n",
       "    </tr>\n",
       "    <tr>\n",
       "      <th>max</th>\n",
       "      <td>3.300000e+01</td>\n",
       "      <td>5.900000e+01</td>\n",
       "      <td>2.216900e+04</td>\n",
       "      <td>3.079800e+05</td>\n",
       "      <td>2.169000e+03</td>\n",
       "    </tr>\n",
       "  </tbody>\n",
       "</table>\n",
       "</div>"
      ],
      "text/plain": [
       "       date_block_num       shop_id       item_id    item_price  item_cnt_day\n",
       "count    2.935849e+06  2.935849e+06  2.935849e+06  2.935849e+06  2.935849e+06\n",
       "mean     1.456991e+01  3.300173e+01  1.019723e+04  8.908532e+02  1.242641e+00\n",
       "std      9.422988e+00  1.622697e+01  6.324297e+03  1.729800e+03  2.618834e+00\n",
       "min      0.000000e+00  0.000000e+00  0.000000e+00 -1.000000e+00 -2.200000e+01\n",
       "25%      7.000000e+00  2.200000e+01  4.476000e+03  2.490000e+02  1.000000e+00\n",
       "50%      1.400000e+01  3.100000e+01  9.343000e+03  3.990000e+02  1.000000e+00\n",
       "75%      2.300000e+01  4.700000e+01  1.568400e+04  9.990000e+02  1.000000e+00\n",
       "max      3.300000e+01  5.900000e+01  2.216900e+04  3.079800e+05  2.169000e+03"
      ]
     },
     "execution_count": 48,
     "metadata": {},
     "output_type": "execute_result"
    }
   ],
   "source": [
    "sales.describe()"
   ]
  },
  {
   "cell_type": "code",
   "execution_count": 49,
   "id": "e42bc9af",
   "metadata": {},
   "outputs": [
    {
     "name": "stdout",
     "output_type": "stream",
     "text": [
      "<class 'pandas.core.frame.DataFrame'>\n",
      "RangeIndex: 2935849 entries, 0 to 2935848\n",
      "Data columns (total 6 columns):\n",
      " #   Column          Dtype  \n",
      "---  ------          -----  \n",
      " 0   date            object \n",
      " 1   date_block_num  int64  \n",
      " 2   shop_id         int64  \n",
      " 3   item_id         int64  \n",
      " 4   item_price      float64\n",
      " 5   item_cnt_day    float64\n",
      "dtypes: float64(2), int64(3), object(1)\n",
      "memory usage: 134.4+ MB\n"
     ]
    }
   ],
   "source": [
    "sales.info()"
   ]
  },
  {
   "cell_type": "code",
   "execution_count": 50,
   "id": "eac7555e",
   "metadata": {},
   "outputs": [],
   "source": [
    "sales['date'] = pd.to_datetime(sales['date'], dayfirst=True)"
   ]
  },
  {
   "cell_type": "code",
   "execution_count": 51,
   "id": "6b0caa1b",
   "metadata": {},
   "outputs": [
    {
     "data": {
      "text/html": [
       "<div>\n",
       "<style scoped>\n",
       "    .dataframe tbody tr th:only-of-type {\n",
       "        vertical-align: middle;\n",
       "    }\n",
       "\n",
       "    .dataframe tbody tr th {\n",
       "        vertical-align: top;\n",
       "    }\n",
       "\n",
       "    .dataframe thead th {\n",
       "        text-align: right;\n",
       "    }\n",
       "</style>\n",
       "<table border=\"1\" class=\"dataframe\">\n",
       "  <thead>\n",
       "    <tr style=\"text-align: right;\">\n",
       "      <th></th>\n",
       "      <th>date</th>\n",
       "      <th>date_block_num</th>\n",
       "      <th>shop_id</th>\n",
       "      <th>item_id</th>\n",
       "      <th>item_price</th>\n",
       "      <th>item_cnt_day</th>\n",
       "    </tr>\n",
       "  </thead>\n",
       "  <tbody>\n",
       "    <tr>\n",
       "      <th>0</th>\n",
       "      <td>2013-01-02</td>\n",
       "      <td>0</td>\n",
       "      <td>59</td>\n",
       "      <td>22154</td>\n",
       "      <td>999.00</td>\n",
       "      <td>1.0</td>\n",
       "    </tr>\n",
       "    <tr>\n",
       "      <th>1</th>\n",
       "      <td>2013-01-03</td>\n",
       "      <td>0</td>\n",
       "      <td>25</td>\n",
       "      <td>2552</td>\n",
       "      <td>899.00</td>\n",
       "      <td>1.0</td>\n",
       "    </tr>\n",
       "    <tr>\n",
       "      <th>2</th>\n",
       "      <td>2013-01-05</td>\n",
       "      <td>0</td>\n",
       "      <td>25</td>\n",
       "      <td>2552</td>\n",
       "      <td>899.00</td>\n",
       "      <td>-1.0</td>\n",
       "    </tr>\n",
       "    <tr>\n",
       "      <th>3</th>\n",
       "      <td>2013-01-06</td>\n",
       "      <td>0</td>\n",
       "      <td>25</td>\n",
       "      <td>2554</td>\n",
       "      <td>1709.05</td>\n",
       "      <td>1.0</td>\n",
       "    </tr>\n",
       "    <tr>\n",
       "      <th>4</th>\n",
       "      <td>2013-01-15</td>\n",
       "      <td>0</td>\n",
       "      <td>25</td>\n",
       "      <td>2555</td>\n",
       "      <td>1099.00</td>\n",
       "      <td>1.0</td>\n",
       "    </tr>\n",
       "    <tr>\n",
       "      <th>...</th>\n",
       "      <td>...</td>\n",
       "      <td>...</td>\n",
       "      <td>...</td>\n",
       "      <td>...</td>\n",
       "      <td>...</td>\n",
       "      <td>...</td>\n",
       "    </tr>\n",
       "    <tr>\n",
       "      <th>2935844</th>\n",
       "      <td>2015-10-10</td>\n",
       "      <td>33</td>\n",
       "      <td>25</td>\n",
       "      <td>7409</td>\n",
       "      <td>299.00</td>\n",
       "      <td>1.0</td>\n",
       "    </tr>\n",
       "    <tr>\n",
       "      <th>2935845</th>\n",
       "      <td>2015-10-09</td>\n",
       "      <td>33</td>\n",
       "      <td>25</td>\n",
       "      <td>7460</td>\n",
       "      <td>299.00</td>\n",
       "      <td>1.0</td>\n",
       "    </tr>\n",
       "    <tr>\n",
       "      <th>2935846</th>\n",
       "      <td>2015-10-14</td>\n",
       "      <td>33</td>\n",
       "      <td>25</td>\n",
       "      <td>7459</td>\n",
       "      <td>349.00</td>\n",
       "      <td>1.0</td>\n",
       "    </tr>\n",
       "    <tr>\n",
       "      <th>2935847</th>\n",
       "      <td>2015-10-22</td>\n",
       "      <td>33</td>\n",
       "      <td>25</td>\n",
       "      <td>7440</td>\n",
       "      <td>299.00</td>\n",
       "      <td>1.0</td>\n",
       "    </tr>\n",
       "    <tr>\n",
       "      <th>2935848</th>\n",
       "      <td>2015-10-03</td>\n",
       "      <td>33</td>\n",
       "      <td>25</td>\n",
       "      <td>7460</td>\n",
       "      <td>299.00</td>\n",
       "      <td>1.0</td>\n",
       "    </tr>\n",
       "  </tbody>\n",
       "</table>\n",
       "<p>2935849 rows × 6 columns</p>\n",
       "</div>"
      ],
      "text/plain": [
       "              date  date_block_num  shop_id  item_id  item_price  item_cnt_day\n",
       "0       2013-01-02               0       59    22154      999.00           1.0\n",
       "1       2013-01-03               0       25     2552      899.00           1.0\n",
       "2       2013-01-05               0       25     2552      899.00          -1.0\n",
       "3       2013-01-06               0       25     2554     1709.05           1.0\n",
       "4       2013-01-15               0       25     2555     1099.00           1.0\n",
       "...            ...             ...      ...      ...         ...           ...\n",
       "2935844 2015-10-10              33       25     7409      299.00           1.0\n",
       "2935845 2015-10-09              33       25     7460      299.00           1.0\n",
       "2935846 2015-10-14              33       25     7459      349.00           1.0\n",
       "2935847 2015-10-22              33       25     7440      299.00           1.0\n",
       "2935848 2015-10-03              33       25     7460      299.00           1.0\n",
       "\n",
       "[2935849 rows x 6 columns]"
      ]
     },
     "execution_count": 51,
     "metadata": {},
     "output_type": "execute_result"
    }
   ],
   "source": [
    "sales"
   ]
  },
  {
   "cell_type": "code",
   "execution_count": 52,
   "id": "5cf67d9f",
   "metadata": {},
   "outputs": [
    {
     "data": {
      "text/plain": [
       "(2928493, 6)"
      ]
     },
     "execution_count": 52,
     "metadata": {},
     "output_type": "execute_result"
    }
   ],
   "source": [
    "sales = sales[sales['item_cnt_day']>0]\n",
    "sales.shape"
   ]
  },
  {
   "cell_type": "code",
   "execution_count": 53,
   "id": "39163769",
   "metadata": {},
   "outputs": [
    {
     "data": {
      "text/html": [
       "<div>\n",
       "<style scoped>\n",
       "    .dataframe tbody tr th:only-of-type {\n",
       "        vertical-align: middle;\n",
       "    }\n",
       "\n",
       "    .dataframe tbody tr th {\n",
       "        vertical-align: top;\n",
       "    }\n",
       "\n",
       "    .dataframe thead th {\n",
       "        text-align: right;\n",
       "    }\n",
       "</style>\n",
       "<table border=\"1\" class=\"dataframe\">\n",
       "  <thead>\n",
       "    <tr style=\"text-align: right;\">\n",
       "      <th></th>\n",
       "      <th>date</th>\n",
       "      <th>year</th>\n",
       "      <th>month</th>\n",
       "      <th>day</th>\n",
       "      <th>date_block_num</th>\n",
       "      <th>item_cnt_day</th>\n",
       "    </tr>\n",
       "  </thead>\n",
       "  <tbody>\n",
       "    <tr>\n",
       "      <th>0</th>\n",
       "      <td>2013-01-01</td>\n",
       "      <td>2013</td>\n",
       "      <td>1</td>\n",
       "      <td>1</td>\n",
       "      <td>0</td>\n",
       "      <td>1957.0</td>\n",
       "    </tr>\n",
       "    <tr>\n",
       "      <th>1</th>\n",
       "      <td>2013-01-02</td>\n",
       "      <td>2013</td>\n",
       "      <td>1</td>\n",
       "      <td>2</td>\n",
       "      <td>0</td>\n",
       "      <td>8232.0</td>\n",
       "    </tr>\n",
       "    <tr>\n",
       "      <th>2</th>\n",
       "      <td>2013-01-03</td>\n",
       "      <td>2013</td>\n",
       "      <td>1</td>\n",
       "      <td>3</td>\n",
       "      <td>0</td>\n",
       "      <td>7444.0</td>\n",
       "    </tr>\n",
       "    <tr>\n",
       "      <th>3</th>\n",
       "      <td>2013-01-04</td>\n",
       "      <td>2013</td>\n",
       "      <td>1</td>\n",
       "      <td>4</td>\n",
       "      <td>0</td>\n",
       "      <td>6628.0</td>\n",
       "    </tr>\n",
       "    <tr>\n",
       "      <th>4</th>\n",
       "      <td>2013-01-05</td>\n",
       "      <td>2013</td>\n",
       "      <td>1</td>\n",
       "      <td>5</td>\n",
       "      <td>0</td>\n",
       "      <td>6360.0</td>\n",
       "    </tr>\n",
       "    <tr>\n",
       "      <th>...</th>\n",
       "      <td>...</td>\n",
       "      <td>...</td>\n",
       "      <td>...</td>\n",
       "      <td>...</td>\n",
       "      <td>...</td>\n",
       "      <td>...</td>\n",
       "    </tr>\n",
       "    <tr>\n",
       "      <th>1029</th>\n",
       "      <td>2015-10-27</td>\n",
       "      <td>2015</td>\n",
       "      <td>10</td>\n",
       "      <td>27</td>\n",
       "      <td>33</td>\n",
       "      <td>1555.0</td>\n",
       "    </tr>\n",
       "    <tr>\n",
       "      <th>1030</th>\n",
       "      <td>2015-10-28</td>\n",
       "      <td>2015</td>\n",
       "      <td>10</td>\n",
       "      <td>28</td>\n",
       "      <td>33</td>\n",
       "      <td>3599.0</td>\n",
       "    </tr>\n",
       "    <tr>\n",
       "      <th>1031</th>\n",
       "      <td>2015-10-29</td>\n",
       "      <td>2015</td>\n",
       "      <td>10</td>\n",
       "      <td>29</td>\n",
       "      <td>33</td>\n",
       "      <td>1591.0</td>\n",
       "    </tr>\n",
       "    <tr>\n",
       "      <th>1032</th>\n",
       "      <td>2015-10-30</td>\n",
       "      <td>2015</td>\n",
       "      <td>10</td>\n",
       "      <td>30</td>\n",
       "      <td>33</td>\n",
       "      <td>2277.0</td>\n",
       "    </tr>\n",
       "    <tr>\n",
       "      <th>1033</th>\n",
       "      <td>2015-10-31</td>\n",
       "      <td>2015</td>\n",
       "      <td>10</td>\n",
       "      <td>31</td>\n",
       "      <td>33</td>\n",
       "      <td>3107.0</td>\n",
       "    </tr>\n",
       "  </tbody>\n",
       "</table>\n",
       "<p>1034 rows × 6 columns</p>\n",
       "</div>"
      ],
      "text/plain": [
       "           date  year  month  day  date_block_num  item_cnt_day\n",
       "0    2013-01-01  2013      1    1               0        1957.0\n",
       "1    2013-01-02  2013      1    2               0        8232.0\n",
       "2    2013-01-03  2013      1    3               0        7444.0\n",
       "3    2013-01-04  2013      1    4               0        6628.0\n",
       "4    2013-01-05  2013      1    5               0        6360.0\n",
       "...         ...   ...    ...  ...             ...           ...\n",
       "1029 2015-10-27  2015     10   27              33        1555.0\n",
       "1030 2015-10-28  2015     10   28              33        3599.0\n",
       "1031 2015-10-29  2015     10   29              33        1591.0\n",
       "1032 2015-10-30  2015     10   30              33        2277.0\n",
       "1033 2015-10-31  2015     10   31              33        3107.0\n",
       "\n",
       "[1034 rows x 6 columns]"
      ]
     },
     "execution_count": 53,
     "metadata": {},
     "output_type": "execute_result"
    }
   ],
   "source": [
    "sales1=sales.copy()\n",
    "sales1['year']=sales1[\"date\"].dt.year\n",
    "sales1['month']=sales1[\"date\"].dt.month\n",
    "sales1['day']=sales1[\"date\"].dt.day\n",
    "sales_gr=sales1.groupby(['date','year', 'month', 'day', 'date_block_num'])['item_cnt_day'].sum().reset_index()\n",
    "sales_gr\n"
   ]
  },
  {
   "cell_type": "markdown",
   "id": "34b2c571",
   "metadata": {},
   "source": [
    "## Сгруппировал датасет по дням, количество проданных товаров просуммировал."
   ]
  },
  {
   "cell_type": "code",
   "execution_count": 54,
   "id": "9149f337",
   "metadata": {},
   "outputs": [
    {
     "data": {
      "text/html": [
       "<div>\n",
       "<style scoped>\n",
       "    .dataframe tbody tr th:only-of-type {\n",
       "        vertical-align: middle;\n",
       "    }\n",
       "\n",
       "    .dataframe tbody tr th {\n",
       "        vertical-align: top;\n",
       "    }\n",
       "\n",
       "    .dataframe thead th {\n",
       "        text-align: right;\n",
       "    }\n",
       "</style>\n",
       "<table border=\"1\" class=\"dataframe\">\n",
       "  <thead>\n",
       "    <tr style=\"text-align: right;\">\n",
       "      <th></th>\n",
       "      <th>item_cnt_day</th>\n",
       "    </tr>\n",
       "    <tr>\n",
       "      <th>date</th>\n",
       "      <th></th>\n",
       "    </tr>\n",
       "  </thead>\n",
       "  <tbody>\n",
       "    <tr>\n",
       "      <th>2013-01-01</th>\n",
       "      <td>1957.0</td>\n",
       "    </tr>\n",
       "    <tr>\n",
       "      <th>2013-01-02</th>\n",
       "      <td>8232.0</td>\n",
       "    </tr>\n",
       "    <tr>\n",
       "      <th>2013-01-03</th>\n",
       "      <td>7444.0</td>\n",
       "    </tr>\n",
       "    <tr>\n",
       "      <th>2013-01-04</th>\n",
       "      <td>6628.0</td>\n",
       "    </tr>\n",
       "    <tr>\n",
       "      <th>2013-01-05</th>\n",
       "      <td>6360.0</td>\n",
       "    </tr>\n",
       "    <tr>\n",
       "      <th>...</th>\n",
       "      <td>...</td>\n",
       "    </tr>\n",
       "    <tr>\n",
       "      <th>2015-10-27</th>\n",
       "      <td>1555.0</td>\n",
       "    </tr>\n",
       "    <tr>\n",
       "      <th>2015-10-28</th>\n",
       "      <td>3599.0</td>\n",
       "    </tr>\n",
       "    <tr>\n",
       "      <th>2015-10-29</th>\n",
       "      <td>1591.0</td>\n",
       "    </tr>\n",
       "    <tr>\n",
       "      <th>2015-10-30</th>\n",
       "      <td>2277.0</td>\n",
       "    </tr>\n",
       "    <tr>\n",
       "      <th>2015-10-31</th>\n",
       "      <td>3107.0</td>\n",
       "    </tr>\n",
       "  </tbody>\n",
       "</table>\n",
       "<p>1034 rows × 1 columns</p>\n",
       "</div>"
      ],
      "text/plain": [
       "            item_cnt_day\n",
       "date                    \n",
       "2013-01-01        1957.0\n",
       "2013-01-02        8232.0\n",
       "2013-01-03        7444.0\n",
       "2013-01-04        6628.0\n",
       "2013-01-05        6360.0\n",
       "...                  ...\n",
       "2015-10-27        1555.0\n",
       "2015-10-28        3599.0\n",
       "2015-10-29        1591.0\n",
       "2015-10-30        2277.0\n",
       "2015-10-31        3107.0\n",
       "\n",
       "[1034 rows x 1 columns]"
      ]
     },
     "execution_count": 54,
     "metadata": {},
     "output_type": "execute_result"
    }
   ],
   "source": [
    "sales_gr1 = sales_gr[['date','item_cnt_day']].set_index('date')\n",
    "sales_gr1"
   ]
  },
  {
   "cell_type": "code",
   "execution_count": 55,
   "id": "a676fc34",
   "metadata": {},
   "outputs": [
    {
     "data": {
      "text/plain": [
       "[<matplotlib.lines.Line2D at 0x7fb88e960190>]"
      ]
     },
     "execution_count": 55,
     "metadata": {},
     "output_type": "execute_result"
    },
    {
     "data": {
      "image/png": "[encoded data removed]",
      "text/plain": [
       "<Figure size 1152x360 with 1 Axes>"
      ]
     },
     "metadata": {
      "needs_background": "light"
     },
     "output_type": "display_data"
    }
   ],
   "source": [
    "plt.figure(figsize=(16, 5))\n",
    "\n",
    "plt.plot(sales_gr1.index, sales_gr1['item_cnt_day'], label='total', color='r')"
   ]
  },
  {
   "cell_type": "markdown",
   "id": "5e232168",
   "metadata": {},
   "source": [
    "## Виден явный тренд и сезонность "
   ]
  },
  {
   "cell_type": "code",
   "execution_count": 56,
   "id": "d4e626d6",
   "metadata": {},
   "outputs": [
    {
     "data": {
      "text/plain": [
       "<Figure size 1152x864 with 0 Axes>"
      ]
     },
     "metadata": {},
     "output_type": "display_data"
    },
    {
     "data": {
      "image/png": "[encoded data removed]",
      "text/plain": [
       "<Figure size 432x288 with 4 Axes>"
      ]
     },
     "metadata": {
      "needs_background": "light"
     },
     "output_type": "display_data"
    }
   ],
   "source": [
    "from statsmodels.tsa.seasonal import seasonal_decompose\n",
    "\n",
    "result = seasonal_decompose(sales_gr1, \n",
    "                            model='multiplicative',\n",
    "                            period=365)\n",
    "plt.figure(figsize=(16,12))\n",
    "result.plot();"
   ]
  },
  {
   "cell_type": "code",
   "execution_count": 57,
   "id": "29450353",
   "metadata": {},
   "outputs": [
    {
     "data": {
      "text/plain": [
       "[<matplotlib.lines.Line2D at 0x7fb89c03aaa0>]"
      ]
     },
     "execution_count": 57,
     "metadata": {},
     "output_type": "execute_result"
    },
    {
     "data": {
      "image/png": "[encoded data removed]",
      "text/plain": [
       "<Figure size 864x432 with 1 Axes>"
      ]
     },
     "metadata": {
      "needs_background": "light"
     },
     "output_type": "display_data"
    }
   ],
   "source": [
    "sales_gr3 = sales1.groupby(['date_block_num'])['item_cnt_day'].sum().reset_index()\n",
    "plt.figure(figsize=(12, 6))\n",
    "sales_gr3.astype(\"float\")\n",
    "\n",
    "plt.plot(sales_gr3['date_block_num'], sales_gr3['item_cnt_day'], label='total', color='r')"
   ]
  },
  {
   "cell_type": "code",
   "execution_count": 58,
   "id": "49669051",
   "metadata": {},
   "outputs": [],
   "source": [
    "def code_mean(data, cat_feature, real_feature):\n",
    "    return dict(data.groupby(cat_feature)[real_feature].mean())"
   ]
  },
  {
   "cell_type": "code",
   "execution_count": 114,
   "id": "1e7ce3fd",
   "metadata": {},
   "outputs": [
    {
     "data": {
      "text/html": [
       "<div>\n",
       "<style scoped>\n",
       "    .dataframe tbody tr th:only-of-type {\n",
       "        vertical-align: middle;\n",
       "    }\n",
       "\n",
       "    .dataframe tbody tr th {\n",
       "        vertical-align: top;\n",
       "    }\n",
       "\n",
       "    .dataframe thead th {\n",
       "        text-align: right;\n",
       "    }\n",
       "</style>\n",
       "<table border=\"1\" class=\"dataframe\">\n",
       "  <thead>\n",
       "    <tr style=\"text-align: right;\">\n",
       "      <th></th>\n",
       "      <th>item_cnt_day</th>\n",
       "    </tr>\n",
       "    <tr>\n",
       "      <th>date</th>\n",
       "      <th></th>\n",
       "    </tr>\n",
       "  </thead>\n",
       "  <tbody>\n",
       "    <tr>\n",
       "      <th>2013-01-01</th>\n",
       "      <td>1957.0</td>\n",
       "    </tr>\n",
       "    <tr>\n",
       "      <th>2013-01-02</th>\n",
       "      <td>8232.0</td>\n",
       "    </tr>\n",
       "    <tr>\n",
       "      <th>2013-01-03</th>\n",
       "      <td>7444.0</td>\n",
       "    </tr>\n",
       "    <tr>\n",
       "      <th>2013-01-04</th>\n",
       "      <td>6628.0</td>\n",
       "    </tr>\n",
       "    <tr>\n",
       "      <th>2013-01-05</th>\n",
       "      <td>6360.0</td>\n",
       "    </tr>\n",
       "  </tbody>\n",
       "</table>\n",
       "</div>"
      ],
      "text/plain": [
       "            item_cnt_day\n",
       "date                    \n",
       "2013-01-01        1957.0\n",
       "2013-01-02        8232.0\n",
       "2013-01-03        7444.0\n",
       "2013-01-04        6628.0\n",
       "2013-01-05        6360.0"
      ]
     },
     "execution_count": 114,
     "metadata": {},
     "output_type": "execute_result"
    }
   ],
   "source": [
    "df = pd.DataFrame(sales_gr1.copy())\n",
    "df.head()"
   ]
  },
  {
   "cell_type": "code",
   "execution_count": 118,
   "id": "9eaea8a9",
   "metadata": {},
   "outputs": [
    {
     "data": {
      "text/html": [
       "<div>\n",
       "<style scoped>\n",
       "    .dataframe tbody tr th:only-of-type {\n",
       "        vertical-align: middle;\n",
       "    }\n",
       "\n",
       "    .dataframe tbody tr th {\n",
       "        vertical-align: top;\n",
       "    }\n",
       "\n",
       "    .dataframe thead th {\n",
       "        text-align: right;\n",
       "    }\n",
       "</style>\n",
       "<table border=\"1\" class=\"dataframe\">\n",
       "  <thead>\n",
       "    <tr style=\"text-align: right;\">\n",
       "      <th></th>\n",
       "      <th>date</th>\n",
       "      <th>item_cnt_day</th>\n",
       "    </tr>\n",
       "  </thead>\n",
       "  <tbody>\n",
       "    <tr>\n",
       "      <th>0</th>\n",
       "      <td>2013-01-01</td>\n",
       "      <td>1957.0</td>\n",
       "    </tr>\n",
       "    <tr>\n",
       "      <th>1</th>\n",
       "      <td>2013-01-02</td>\n",
       "      <td>8232.0</td>\n",
       "    </tr>\n",
       "    <tr>\n",
       "      <th>2</th>\n",
       "      <td>2013-01-03</td>\n",
       "      <td>7444.0</td>\n",
       "    </tr>\n",
       "    <tr>\n",
       "      <th>3</th>\n",
       "      <td>2013-01-04</td>\n",
       "      <td>6628.0</td>\n",
       "    </tr>\n",
       "    <tr>\n",
       "      <th>4</th>\n",
       "      <td>2013-01-05</td>\n",
       "      <td>6360.0</td>\n",
       "    </tr>\n",
       "    <tr>\n",
       "      <th>...</th>\n",
       "      <td>...</td>\n",
       "      <td>...</td>\n",
       "    </tr>\n",
       "    <tr>\n",
       "      <th>1029</th>\n",
       "      <td>2015-10-27</td>\n",
       "      <td>1555.0</td>\n",
       "    </tr>\n",
       "    <tr>\n",
       "      <th>1030</th>\n",
       "      <td>2015-10-28</td>\n",
       "      <td>3599.0</td>\n",
       "    </tr>\n",
       "    <tr>\n",
       "      <th>1031</th>\n",
       "      <td>2015-10-29</td>\n",
       "      <td>1591.0</td>\n",
       "    </tr>\n",
       "    <tr>\n",
       "      <th>1032</th>\n",
       "      <td>2015-10-30</td>\n",
       "      <td>2277.0</td>\n",
       "    </tr>\n",
       "    <tr>\n",
       "      <th>1033</th>\n",
       "      <td>2015-10-31</td>\n",
       "      <td>3107.0</td>\n",
       "    </tr>\n",
       "  </tbody>\n",
       "</table>\n",
       "<p>1034 rows × 2 columns</p>\n",
       "</div>"
      ],
      "text/plain": [
       "           date  item_cnt_day\n",
       "0    2013-01-01        1957.0\n",
       "1    2013-01-02        8232.0\n",
       "2    2013-01-03        7444.0\n",
       "3    2013-01-04        6628.0\n",
       "4    2013-01-05        6360.0\n",
       "...         ...           ...\n",
       "1029 2015-10-27        1555.0\n",
       "1030 2015-10-28        3599.0\n",
       "1031 2015-10-29        1591.0\n",
       "1032 2015-10-30        2277.0\n",
       "1033 2015-10-31        3107.0\n",
       "\n",
       "[1034 rows x 2 columns]"
      ]
     },
     "execution_count": 118,
     "metadata": {},
     "output_type": "execute_result"
    }
   ],
   "source": [
    "df=df.reset_index()\n",
    "df"
   ]
  },
  {
   "cell_type": "code",
   "execution_count": 119,
   "id": "b6c1f085",
   "metadata": {},
   "outputs": [
    {
     "data": {
      "text/plain": [
       "827"
      ]
     },
     "execution_count": 119,
     "metadata": {},
     "output_type": "execute_result"
    }
   ],
   "source": [
    "test_index = int(len(df) * 0.8)\n",
    "test_index"
   ]
  },
  {
   "cell_type": "markdown",
   "id": "4b413eeb",
   "metadata": {},
   "source": [
    "## Добавил дополнительные признаки: день недели, месяц и год закодировал средним значением целевой переменной; добавил три лага"
   ]
  },
  {
   "cell_type": "code",
   "execution_count": 120,
   "id": "255f1bff",
   "metadata": {},
   "outputs": [],
   "source": [
    "df[\"weekday\"] = df['date'].dt.weekday\n",
    "df[\"month\"] = df['date'].dt.month\n",
    "df[\"year\"] = df['date'].dt.year"
   ]
  },
  {
   "cell_type": "code",
   "execution_count": 121,
   "id": "02fa07fe",
   "metadata": {},
   "outputs": [
    {
     "data": {
      "text/plain": [
       "<function dict.get(key, default=None, /)>"
      ]
     },
     "execution_count": 121,
     "metadata": {},
     "output_type": "execute_result"
    }
   ],
   "source": [
    "code_mean(df[:test_index], \"weekday\", \"item_cnt_day\").get"
   ]
  },
  {
   "cell_type": "code",
   "execution_count": 122,
   "id": "cf14b8df",
   "metadata": {},
   "outputs": [],
   "source": [
    "df[\"weekday_average\"] = list(map(code_mean(df[:test_index], \"weekday\", \"item_cnt_day\").get, df.weekday))\n",
    "df[\"month_average\"] = list(map(code_mean(df[:test_index], \"month\", \"item_cnt_day\").get, df.month))\n",
    "df[\"year_average\"] = list(map(code_mean(df[:test_index], \"year\", \"item_cnt_day\").get, df.year))\n",
    "df.drop([\"weekday\", 'month', 'year', 'date'], axis=1, inplace=True)"
   ]
  },
  {
   "cell_type": "code",
   "execution_count": 123,
   "id": "b6119b6b",
   "metadata": {},
   "outputs": [
    {
     "data": {
      "text/html": [
       "<div>\n",
       "<style scoped>\n",
       "    .dataframe tbody tr th:only-of-type {\n",
       "        vertical-align: middle;\n",
       "    }\n",
       "\n",
       "    .dataframe tbody tr th {\n",
       "        vertical-align: top;\n",
       "    }\n",
       "\n",
       "    .dataframe thead th {\n",
       "        text-align: right;\n",
       "    }\n",
       "</style>\n",
       "<table border=\"1\" class=\"dataframe\">\n",
       "  <thead>\n",
       "    <tr style=\"text-align: right;\">\n",
       "      <th></th>\n",
       "      <th>item_cnt_day</th>\n",
       "      <th>weekday_average</th>\n",
       "      <th>month_average</th>\n",
       "      <th>year_average</th>\n",
       "      <th>lag_1</th>\n",
       "      <th>lag_2</th>\n",
       "      <th>lag_3</th>\n",
       "    </tr>\n",
       "  </thead>\n",
       "  <tbody>\n",
       "    <tr>\n",
       "      <th>0</th>\n",
       "      <td>1957.0</td>\n",
       "      <td>3234.655462</td>\n",
       "      <td>3875.182796</td>\n",
       "      <td>4290.128767</td>\n",
       "      <td>NaN</td>\n",
       "      <td>NaN</td>\n",
       "      <td>NaN</td>\n",
       "    </tr>\n",
       "    <tr>\n",
       "      <th>1</th>\n",
       "      <td>8232.0</td>\n",
       "      <td>3190.203390</td>\n",
       "      <td>3875.182796</td>\n",
       "      <td>4290.128767</td>\n",
       "      <td>1957.0</td>\n",
       "      <td>NaN</td>\n",
       "      <td>NaN</td>\n",
       "    </tr>\n",
       "    <tr>\n",
       "      <th>2</th>\n",
       "      <td>7444.0</td>\n",
       "      <td>3354.838983</td>\n",
       "      <td>3875.182796</td>\n",
       "      <td>4290.128767</td>\n",
       "      <td>8232.0</td>\n",
       "      <td>1957.0</td>\n",
       "      <td>NaN</td>\n",
       "    </tr>\n",
       "    <tr>\n",
       "      <th>3</th>\n",
       "      <td>6628.0</td>\n",
       "      <td>4107.694915</td>\n",
       "      <td>3875.182796</td>\n",
       "      <td>4290.128767</td>\n",
       "      <td>7444.0</td>\n",
       "      <td>8232.0</td>\n",
       "      <td>1957.0</td>\n",
       "    </tr>\n",
       "    <tr>\n",
       "      <th>4</th>\n",
       "      <td>6360.0</td>\n",
       "      <td>5524.830508</td>\n",
       "      <td>3875.182796</td>\n",
       "      <td>4290.128767</td>\n",
       "      <td>6628.0</td>\n",
       "      <td>7444.0</td>\n",
       "      <td>8232.0</td>\n",
       "    </tr>\n",
       "    <tr>\n",
       "      <th>...</th>\n",
       "      <td>...</td>\n",
       "      <td>...</td>\n",
       "      <td>...</td>\n",
       "      <td>...</td>\n",
       "      <td>...</td>\n",
       "      <td>...</td>\n",
       "      <td>...</td>\n",
       "    </tr>\n",
       "    <tr>\n",
       "      <th>1029</th>\n",
       "      <td>1555.0</td>\n",
       "      <td>3234.655462</td>\n",
       "      <td>3797.387097</td>\n",
       "      <td>3035.051546</td>\n",
       "      <td>1393.0</td>\n",
       "      <td>2498.0</td>\n",
       "      <td>3037.0</td>\n",
       "    </tr>\n",
       "    <tr>\n",
       "      <th>1030</th>\n",
       "      <td>3599.0</td>\n",
       "      <td>3190.203390</td>\n",
       "      <td>3797.387097</td>\n",
       "      <td>3035.051546</td>\n",
       "      <td>1555.0</td>\n",
       "      <td>1393.0</td>\n",
       "      <td>2498.0</td>\n",
       "    </tr>\n",
       "    <tr>\n",
       "      <th>1031</th>\n",
       "      <td>1591.0</td>\n",
       "      <td>3354.838983</td>\n",
       "      <td>3797.387097</td>\n",
       "      <td>3035.051546</td>\n",
       "      <td>3599.0</td>\n",
       "      <td>1555.0</td>\n",
       "      <td>1393.0</td>\n",
       "    </tr>\n",
       "    <tr>\n",
       "      <th>1032</th>\n",
       "      <td>2277.0</td>\n",
       "      <td>4107.694915</td>\n",
       "      <td>3797.387097</td>\n",
       "      <td>3035.051546</td>\n",
       "      <td>1591.0</td>\n",
       "      <td>3599.0</td>\n",
       "      <td>1555.0</td>\n",
       "    </tr>\n",
       "    <tr>\n",
       "      <th>1033</th>\n",
       "      <td>3107.0</td>\n",
       "      <td>5524.830508</td>\n",
       "      <td>3797.387097</td>\n",
       "      <td>3035.051546</td>\n",
       "      <td>2277.0</td>\n",
       "      <td>1591.0</td>\n",
       "      <td>3599.0</td>\n",
       "    </tr>\n",
       "  </tbody>\n",
       "</table>\n",
       "<p>1034 rows × 7 columns</p>\n",
       "</div>"
      ],
      "text/plain": [
       "      item_cnt_day  weekday_average  month_average  year_average   lag_1  \\\n",
       "0           1957.0      3234.655462    3875.182796   4290.128767     NaN   \n",
       "1           8232.0      3190.203390    3875.182796   4290.128767  1957.0   \n",
       "2           7444.0      3354.838983    3875.182796   4290.128767  8232.0   \n",
       "3           6628.0      4107.694915    3875.182796   4290.128767  7444.0   \n",
       "4           6360.0      5524.830508    3875.182796   4290.128767  6628.0   \n",
       "...            ...              ...            ...           ...     ...   \n",
       "1029        1555.0      3234.655462    3797.387097   3035.051546  1393.0   \n",
       "1030        3599.0      3190.203390    3797.387097   3035.051546  1555.0   \n",
       "1031        1591.0      3354.838983    3797.387097   3035.051546  3599.0   \n",
       "1032        2277.0      4107.694915    3797.387097   3035.051546  1591.0   \n",
       "1033        3107.0      5524.830508    3797.387097   3035.051546  2277.0   \n",
       "\n",
       "       lag_2   lag_3  \n",
       "0        NaN     NaN  \n",
       "1        NaN     NaN  \n",
       "2     1957.0     NaN  \n",
       "3     8232.0  1957.0  \n",
       "4     7444.0  8232.0  \n",
       "...      ...     ...  \n",
       "1029  2498.0  3037.0  \n",
       "1030  1393.0  2498.0  \n",
       "1031  1555.0  1393.0  \n",
       "1032  3599.0  1555.0  \n",
       "1033  1591.0  3599.0  \n",
       "\n",
       "[1034 rows x 7 columns]"
      ]
     },
     "execution_count": 123,
     "metadata": {},
     "output_type": "execute_result"
    }
   ],
   "source": [
    "for i in range(1, 4):\n",
    "        df[f\"lag_{i}\"] = df.item_cnt_day.shift(i)\n",
    "df"
   ]
  },
  {
   "cell_type": "code",
   "execution_count": 124,
   "id": "ac46ff43",
   "metadata": {},
   "outputs": [
    {
     "data": {
      "text/html": [
       "<div>\n",
       "<style scoped>\n",
       "    .dataframe tbody tr th:only-of-type {\n",
       "        vertical-align: middle;\n",
       "    }\n",
       "\n",
       "    .dataframe tbody tr th {\n",
       "        vertical-align: top;\n",
       "    }\n",
       "\n",
       "    .dataframe thead th {\n",
       "        text-align: right;\n",
       "    }\n",
       "</style>\n",
       "<table border=\"1\" class=\"dataframe\">\n",
       "  <thead>\n",
       "    <tr style=\"text-align: right;\">\n",
       "      <th></th>\n",
       "      <th>item_cnt_day</th>\n",
       "      <th>weekday_average</th>\n",
       "      <th>month_average</th>\n",
       "      <th>year_average</th>\n",
       "      <th>lag_1</th>\n",
       "      <th>lag_2</th>\n",
       "      <th>lag_3</th>\n",
       "    </tr>\n",
       "  </thead>\n",
       "  <tbody>\n",
       "    <tr>\n",
       "      <th>0</th>\n",
       "      <td>6628.0</td>\n",
       "      <td>4107.694915</td>\n",
       "      <td>3875.182796</td>\n",
       "      <td>4290.128767</td>\n",
       "      <td>7444.0</td>\n",
       "      <td>8232.0</td>\n",
       "      <td>1957.0</td>\n",
       "    </tr>\n",
       "    <tr>\n",
       "      <th>1</th>\n",
       "      <td>6360.0</td>\n",
       "      <td>5524.830508</td>\n",
       "      <td>3875.182796</td>\n",
       "      <td>4290.128767</td>\n",
       "      <td>6628.0</td>\n",
       "      <td>7444.0</td>\n",
       "      <td>8232.0</td>\n",
       "    </tr>\n",
       "    <tr>\n",
       "      <th>2</th>\n",
       "      <td>5869.0</td>\n",
       "      <td>4580.923729</td>\n",
       "      <td>3875.182796</td>\n",
       "      <td>4290.128767</td>\n",
       "      <td>6360.0</td>\n",
       "      <td>6628.0</td>\n",
       "      <td>7444.0</td>\n",
       "    </tr>\n",
       "    <tr>\n",
       "      <th>3</th>\n",
       "      <td>5000.0</td>\n",
       "      <td>2961.567797</td>\n",
       "      <td>3875.182796</td>\n",
       "      <td>4290.128767</td>\n",
       "      <td>5869.0</td>\n",
       "      <td>6360.0</td>\n",
       "      <td>6628.0</td>\n",
       "    </tr>\n",
       "    <tr>\n",
       "      <th>4</th>\n",
       "      <td>4795.0</td>\n",
       "      <td>3234.655462</td>\n",
       "      <td>3875.182796</td>\n",
       "      <td>4290.128767</td>\n",
       "      <td>5000.0</td>\n",
       "      <td>5869.0</td>\n",
       "      <td>6360.0</td>\n",
       "    </tr>\n",
       "    <tr>\n",
       "      <th>...</th>\n",
       "      <td>...</td>\n",
       "      <td>...</td>\n",
       "      <td>...</td>\n",
       "      <td>...</td>\n",
       "      <td>...</td>\n",
       "      <td>...</td>\n",
       "      <td>...</td>\n",
       "    </tr>\n",
       "    <tr>\n",
       "      <th>1026</th>\n",
       "      <td>1555.0</td>\n",
       "      <td>3234.655462</td>\n",
       "      <td>3797.387097</td>\n",
       "      <td>3035.051546</td>\n",
       "      <td>1393.0</td>\n",
       "      <td>2498.0</td>\n",
       "      <td>3037.0</td>\n",
       "    </tr>\n",
       "    <tr>\n",
       "      <th>1027</th>\n",
       "      <td>3599.0</td>\n",
       "      <td>3190.203390</td>\n",
       "      <td>3797.387097</td>\n",
       "      <td>3035.051546</td>\n",
       "      <td>1555.0</td>\n",
       "      <td>1393.0</td>\n",
       "      <td>2498.0</td>\n",
       "    </tr>\n",
       "    <tr>\n",
       "      <th>1028</th>\n",
       "      <td>1591.0</td>\n",
       "      <td>3354.838983</td>\n",
       "      <td>3797.387097</td>\n",
       "      <td>3035.051546</td>\n",
       "      <td>3599.0</td>\n",
       "      <td>1555.0</td>\n",
       "      <td>1393.0</td>\n",
       "    </tr>\n",
       "    <tr>\n",
       "      <th>1029</th>\n",
       "      <td>2277.0</td>\n",
       "      <td>4107.694915</td>\n",
       "      <td>3797.387097</td>\n",
       "      <td>3035.051546</td>\n",
       "      <td>1591.0</td>\n",
       "      <td>3599.0</td>\n",
       "      <td>1555.0</td>\n",
       "    </tr>\n",
       "    <tr>\n",
       "      <th>1030</th>\n",
       "      <td>3107.0</td>\n",
       "      <td>5524.830508</td>\n",
       "      <td>3797.387097</td>\n",
       "      <td>3035.051546</td>\n",
       "      <td>2277.0</td>\n",
       "      <td>1591.0</td>\n",
       "      <td>3599.0</td>\n",
       "    </tr>\n",
       "  </tbody>\n",
       "</table>\n",
       "<p>1031 rows × 7 columns</p>\n",
       "</div>"
      ],
      "text/plain": [
       "      item_cnt_day  weekday_average  month_average  year_average   lag_1  \\\n",
       "0           6628.0      4107.694915    3875.182796   4290.128767  7444.0   \n",
       "1           6360.0      5524.830508    3875.182796   4290.128767  6628.0   \n",
       "2           5869.0      4580.923729    3875.182796   4290.128767  6360.0   \n",
       "3           5000.0      2961.567797    3875.182796   4290.128767  5869.0   \n",
       "4           4795.0      3234.655462    3875.182796   4290.128767  5000.0   \n",
       "...            ...              ...            ...           ...     ...   \n",
       "1026        1555.0      3234.655462    3797.387097   3035.051546  1393.0   \n",
       "1027        3599.0      3190.203390    3797.387097   3035.051546  1555.0   \n",
       "1028        1591.0      3354.838983    3797.387097   3035.051546  3599.0   \n",
       "1029        2277.0      4107.694915    3797.387097   3035.051546  1591.0   \n",
       "1030        3107.0      5524.830508    3797.387097   3035.051546  2277.0   \n",
       "\n",
       "       lag_2   lag_3  \n",
       "0     8232.0  1957.0  \n",
       "1     7444.0  8232.0  \n",
       "2     6628.0  7444.0  \n",
       "3     6360.0  6628.0  \n",
       "4     5869.0  6360.0  \n",
       "...      ...     ...  \n",
       "1026  2498.0  3037.0  \n",
       "1027  1393.0  2498.0  \n",
       "1028  1555.0  1393.0  \n",
       "1029  3599.0  1555.0  \n",
       "1030  1591.0  3599.0  \n",
       "\n",
       "[1031 rows x 7 columns]"
      ]
     },
     "execution_count": 124,
     "metadata": {},
     "output_type": "execute_result"
    }
   ],
   "source": [
    "df=df.dropna()\n",
    "df.reset_index(drop=True)"
   ]
  },
  {
   "cell_type": "code",
   "execution_count": 125,
   "id": "a6d4bf05",
   "metadata": {},
   "outputs": [
    {
     "data": {
      "text/html": [
       "<div>\n",
       "<style scoped>\n",
       "    .dataframe tbody tr th:only-of-type {\n",
       "        vertical-align: middle;\n",
       "    }\n",
       "\n",
       "    .dataframe tbody tr th {\n",
       "        vertical-align: top;\n",
       "    }\n",
       "\n",
       "    .dataframe thead th {\n",
       "        text-align: right;\n",
       "    }\n",
       "</style>\n",
       "<table border=\"1\" class=\"dataframe\">\n",
       "  <thead>\n",
       "    <tr style=\"text-align: right;\">\n",
       "      <th></th>\n",
       "      <th>item_cnt_day</th>\n",
       "      <th>weekday_average</th>\n",
       "      <th>month_average</th>\n",
       "      <th>year_average</th>\n",
       "      <th>lag_1</th>\n",
       "      <th>lag_2</th>\n",
       "      <th>lag_3</th>\n",
       "    </tr>\n",
       "  </thead>\n",
       "  <tbody>\n",
       "    <tr>\n",
       "      <th>count</th>\n",
       "      <td>1031.000000</td>\n",
       "      <td>1031.000000</td>\n",
       "      <td>1031.000000</td>\n",
       "      <td>1031.000000</td>\n",
       "      <td>1031.000000</td>\n",
       "      <td>1031.000000</td>\n",
       "      <td>1031.000000</td>\n",
       "    </tr>\n",
       "    <tr>\n",
       "      <th>mean</th>\n",
       "      <td>3528.723569</td>\n",
       "      <td>3852.546652</td>\n",
       "      <td>3797.227735</td>\n",
       "      <td>3685.040042</td>\n",
       "      <td>3532.930165</td>\n",
       "      <td>3538.706111</td>\n",
       "      <td>3539.061106</td>\n",
       "    </tr>\n",
       "    <tr>\n",
       "      <th>std</th>\n",
       "      <td>1576.225739</td>\n",
       "      <td>867.554715</td>\n",
       "      <td>535.303426</td>\n",
       "      <td>504.576540</td>\n",
       "      <td>1580.879533</td>\n",
       "      <td>1587.152608</td>\n",
       "      <td>1586.757427</td>\n",
       "    </tr>\n",
       "    <tr>\n",
       "      <th>min</th>\n",
       "      <td>1279.000000</td>\n",
       "      <td>2961.567797</td>\n",
       "      <td>3293.014925</td>\n",
       "      <td>3035.051546</td>\n",
       "      <td>1279.000000</td>\n",
       "      <td>1279.000000</td>\n",
       "      <td>1279.000000</td>\n",
       "    </tr>\n",
       "    <tr>\n",
       "      <th>25%</th>\n",
       "      <td>2479.500000</td>\n",
       "      <td>3190.203390</td>\n",
       "      <td>3365.645161</td>\n",
       "      <td>3035.051546</td>\n",
       "      <td>2479.500000</td>\n",
       "      <td>2484.000000</td>\n",
       "      <td>2484.000000</td>\n",
       "    </tr>\n",
       "    <tr>\n",
       "      <th>50%</th>\n",
       "      <td>3155.000000</td>\n",
       "      <td>3354.838983</td>\n",
       "      <td>3720.100000</td>\n",
       "      <td>3626.284932</td>\n",
       "      <td>3156.000000</td>\n",
       "      <td>3158.000000</td>\n",
       "      <td>3158.000000</td>\n",
       "    </tr>\n",
       "    <tr>\n",
       "      <th>75%</th>\n",
       "      <td>4252.500000</td>\n",
       "      <td>4580.923729</td>\n",
       "      <td>3875.182796</td>\n",
       "      <td>4290.128767</td>\n",
       "      <td>4260.000000</td>\n",
       "      <td>4267.500000</td>\n",
       "      <td>4267.500000</td>\n",
       "    </tr>\n",
       "    <tr>\n",
       "      <th>max</th>\n",
       "      <td>13362.000000</td>\n",
       "      <td>5524.830508</td>\n",
       "      <td>5689.112903</td>\n",
       "      <td>4290.128767</td>\n",
       "      <td>13362.000000</td>\n",
       "      <td>13362.000000</td>\n",
       "      <td>13362.000000</td>\n",
       "    </tr>\n",
       "  </tbody>\n",
       "</table>\n",
       "</div>"
      ],
      "text/plain": [
       "       item_cnt_day  weekday_average  month_average  year_average  \\\n",
       "count   1031.000000      1031.000000    1031.000000   1031.000000   \n",
       "mean    3528.723569      3852.546652    3797.227735   3685.040042   \n",
       "std     1576.225739       867.554715     535.303426    504.576540   \n",
       "min     1279.000000      2961.567797    3293.014925   3035.051546   \n",
       "25%     2479.500000      3190.203390    3365.645161   3035.051546   \n",
       "50%     3155.000000      3354.838983    3720.100000   3626.284932   \n",
       "75%     4252.500000      4580.923729    3875.182796   4290.128767   \n",
       "max    13362.000000      5524.830508    5689.112903   4290.128767   \n",
       "\n",
       "              lag_1         lag_2         lag_3  \n",
       "count   1031.000000   1031.000000   1031.000000  \n",
       "mean    3532.930165   3538.706111   3539.061106  \n",
       "std     1580.879533   1587.152608   1586.757427  \n",
       "min     1279.000000   1279.000000   1279.000000  \n",
       "25%     2479.500000   2484.000000   2484.000000  \n",
       "50%     3156.000000   3158.000000   3158.000000  \n",
       "75%     4260.000000   4267.500000   4267.500000  \n",
       "max    13362.000000  13362.000000  13362.000000  "
      ]
     },
     "execution_count": 125,
     "metadata": {},
     "output_type": "execute_result"
    }
   ],
   "source": [
    "df.describe()"
   ]
  },
  {
   "cell_type": "code",
   "execution_count": 126,
   "id": "ce64722f",
   "metadata": {},
   "outputs": [],
   "source": [
    "X_train = df.loc[:test_index].drop([\"item_cnt_day\"], axis=1)\n",
    "y_train = df.loc[:test_index][\"item_cnt_day\"]\n",
    "X_test = df.loc[test_index:].drop([\"item_cnt_day\"], axis=1)\n",
    "y_test = df.loc[test_index:][\"item_cnt_day\"]"
   ]
  },
  {
   "cell_type": "markdown",
   "id": "8b43e4cd",
   "metadata": {},
   "source": [
    "## Обучил линейную регрессию размер тестовой выборки 0.8 от всего датасета"
   ]
  },
  {
   "cell_type": "code",
   "execution_count": 127,
   "id": "4f301423",
   "metadata": {},
   "outputs": [
    {
     "data": {
      "image/png": "[encoded data removed]",
      "text/plain": [
       "<Figure size 1440x360 with 1 Axes>"
      ]
     },
     "metadata": {
      "needs_background": "light"
     },
     "output_type": "display_data"
    }
   ],
   "source": [
    "lr = LinearRegression()\n",
    "lr.fit(X_train, y_train)\n",
    "preds = lr.predict(X_test)\n",
    "\n",
    "plt.figure(figsize=(20, 5))\n",
    "plt.plot(preds, \"r\", label=\"prediction\")\n",
    "plt.plot(y_test.values, label=\"actual\")\n",
    "plt.grid(True)\n",
    "plt.legend(loc=\"best\")\n",
    "plt.title(f\"Linear regression\\n\");"
   ]
  },
  {
   "cell_type": "code",
   "execution_count": 91,
   "id": "4f19a8a0",
   "metadata": {},
   "outputs": [
    {
     "name": "stdout",
     "output_type": "stream",
     "text": [
      "Mean absolute error 613.282285729185\n",
      "Mean absolute percetage error 0.2509143479713329\n",
      "Mean squared error 902445.6918360146\n"
     ]
    }
   ],
   "source": [
    "print(f'Mean absolute error {mean_absolute_error(y_test, preds)}')\n",
    "print(f'Mean absolute percetage error {mean_absolute_percentage_error(y_test, preds)}')\n",
    "print(f'Mean squared error {mean_squared_error(y_test, preds)}')\n",
    "#print(f'RMSE {root_mean_squared_error(y_test, preds)}')"
   ]
  },
  {
   "cell_type": "markdown",
   "id": "efff481c",
   "metadata": {},
   "source": [
    "## Обучил модель градиентного бустинга"
   ]
  },
  {
   "cell_type": "code",
   "execution_count": 76,
   "id": "30d906aa",
   "metadata": {},
   "outputs": [
    {
     "data": {
      "text/plain": [
       "<catboost.core.CatBoostRegressor at 0x7fb89e939360>"
      ]
     },
     "execution_count": 76,
     "metadata": {},
     "output_type": "execute_result"
    }
   ],
   "source": []
  },
  {
   "cell_type": "code",
   "execution_count": 101,
   "id": "d6896771",
   "metadata": {},
   "outputs": [
    {
     "data": {
      "application/vnd.jupyter.widget-view+json": {
       "model_id": "c5c2bfc97b024c6084f64cf671f82082",
       "version_major": 2,
       "version_minor": 0
      },
      "text/plain": [
       "MetricVisualizer(layout=Layout(align_self='stretch', height='500px'))"
      ]
     },
     "metadata": {},
     "output_type": "display_data"
    }
   ],
   "source": [
    "lr1 = CatBoostRegressor(n_estimators=300, verbose=0, loss_function = 'RMSE')\n",
    "lr1.fit(X_train, y_train, plot=True)\n",
    "preds1 = lr1.predict(X_test)"
   ]
  },
  {
   "cell_type": "code",
   "execution_count": 129,
   "id": "06db9b9e",
   "metadata": {},
   "outputs": [
    {
     "data": {
      "image/png": "[encoded data removed]",
      "text/plain": [
       "<Figure size 1440x360 with 1 Axes>"
      ]
     },
     "metadata": {
      "needs_background": "light"
     },
     "output_type": "display_data"
    }
   ],
   "source": [
    "plt.figure(figsize=(20, 5))\n",
    "plt.plot(preds1, \"r\", label=\"prediction\")\n",
    "plt.plot(y_test.values, label=\"actual\")\n",
    "plt.grid(True)\n",
    "plt.legend(loc=\"best\")\n",
    "plt.title(f\"CatBoost\\n\");"
   ]
  },
  {
   "cell_type": "code",
   "execution_count": 106,
   "id": "abbb8f64",
   "metadata": {},
   "outputs": [
    {
     "name": "stdout",
     "output_type": "stream",
     "text": [
      "Mean absolute error 535.9099017306603\n",
      "Mean absolute percetage error 0.22412768566299035\n",
      "Mean squared error 780525.5665560773\n"
     ]
    }
   ],
   "source": [
    "print(f'Mean absolute error {mean_absolute_error(y_test, preds1)}')\n",
    "print(f'Mean absolute percetage error {mean_absolute_percentage_error(y_test, preds1)}')\n",
    "print(f'Mean squared error {mean_squared_error(y_test, preds1)}')"
   ]
  },
  {
   "cell_type": "markdown",
   "id": "3205603b",
   "metadata": {},
   "source": [
    "## Применил кросс-валидацию для этих моделей "
   ]
  },
  {
   "cell_type": "code",
   "execution_count": 107,
   "id": "1a54958f",
   "metadata": {},
   "outputs": [],
   "source": [
    "y = pd.concat([y_train, y_test], axis=0)\n",
    "X = pd.concat([X_train, X_test], axis=0)"
   ]
  },
  {
   "cell_type": "code",
   "execution_count": 108,
   "id": "130a1a22",
   "metadata": {},
   "outputs": [
    {
     "data": {
      "text/plain": [
       "0.20769875008220956"
      ]
     },
     "execution_count": 108,
     "metadata": {},
     "output_type": "execute_result"
    }
   ],
   "source": [
    "errors = []\n",
    "\n",
    "tscv = TimeSeriesSplit(n_splits=5)\n",
    "\n",
    "for train_index, test_index in tscv.split(X):\n",
    "    X_train, X_test = X.values[train_index], X.values[test_index]\n",
    "    y_train, y_test = y.values[train_index], y.values[test_index]\n",
    "    model = LinearRegression()\n",
    "    model.fit(X_train, y_train)\n",
    "    preds = model.predict(X_test)\n",
    "    errors.append(mean_absolute_percentage_error(y_test, preds))\n",
    "    \n",
    "np.mean(errors)"
   ]
  },
  {
   "cell_type": "code",
   "execution_count": 109,
   "id": "1e8872d3",
   "metadata": {},
   "outputs": [
    {
     "data": {
      "text/plain": [
       "0.17514960219628709"
      ]
     },
     "execution_count": 109,
     "metadata": {},
     "output_type": "execute_result"
    }
   ],
   "source": [
    "errors1 = []\n",
    "tscv1 = TimeSeriesSplit(n_splits=5)\n",
    "\n",
    "for train_index, test_index in tscv1.split(X):\n",
    "    X_train, X_test = X.values[train_index], X.values[test_index]\n",
    "    y_train, y_test = y.values[train_index], y.values[test_index]\n",
    "    model = CatBoostRegressor(n_estimators=300, verbose=0)\n",
    "    model.fit(X_train, y_train)\n",
    "    preds1 = model.predict(X_test)\n",
    "    errors1.append(mean_absolute_percentage_error(y_test, preds1))\n",
    "    \n",
    "np.mean(errors1)"
   ]
  },
  {
   "cell_type": "code",
   "execution_count": null,
   "id": "e4006388",
   "metadata": {},
   "outputs": [],
   "source": []
  },
  {
   "cell_type": "code",
   "execution_count": null,
   "id": "c9ad8f4e",
   "metadata": {},
   "outputs": [],
   "source": []
  },
  {
   "cell_type": "code",
   "execution_count": null,
   "id": "3f6df423",
   "metadata": {},
   "outputs": [],
   "source": []
  },
  {
   "cell_type": "code",
   "execution_count": null,
   "id": "03613844",
   "metadata": {},
   "outputs": [],
   "source": []
  },
  {
   "cell_type": "code",
   "execution_count": null,
   "id": "2edbb210",
   "metadata": {},
   "outputs": [],
   "source": []
  },
  {
   "cell_type": "code",
   "execution_count": null,
   "id": "fcb61367",
   "metadata": {},
   "outputs": [],
   "source": []
  },
  {
   "cell_type": "code",
   "execution_count": 98,
   "id": "f8e95697",
   "metadata": {},
   "outputs": [],
   "source": [
    "def preprocess_data(data, lag_start=5, lag_end=20, test_size=0.15):\n",
    "\n",
    "    data = pd.DataFrame(data.copy())\n",
    "\n",
    "    # считаем индекс в датафрейме, после которого начинается тестовый отрезок\n",
    "    test_index = int(len(data) * (1 - test_size))\n",
    "\n",
    "    # добавляем лаги исходного ряда в качестве признаков\n",
    "    for i in range(lag_start, lag_end):\n",
    "        data[f\"lag_{i}\"] = data.item_cnt_day.shift(i)\n",
    "\n",
    "    data[\"week\"] = data.index.week\n",
    "    data[\"month\"] = data.index.month\n",
    "    data[\"year\"] = data.index.year\n",
    "\n",
    "    # считаем средние только по тренировочной части, чтобы избежать лика\n",
    "    data[\"week_average\"] = list(map(code_mean(data[:test_index], \"week\", \"item_cnt_day\").get, data.week))\n",
    "    data[\"month_average\"] = list(map(code_mean(data[:test_index], \"month\", \"item_cnt_day\").get, data.month))\n",
    "    data[\"year_average\"] = list(map(code_mean(data[:test_index], \"year\", \"item_cnt_day\").get, data.year))\n",
    "    \n",
    "    # выкидываем закодированные средними признаки\n",
    "    data.drop([ \"week\", 'month', 'year'], axis=1, inplace=True)\n",
    "\n",
    "    data = data.dropna()\n",
    "    data = data.reset_index(drop=True)\n",
    "\n",
    "    # разбиваем весь датасет на тренировочную и тестовую выборку\n",
    "    X_train = data.loc[:test_index].drop([\"item_cnt_day\"], axis=1)\n",
    "    y_train = data.loc[:test_index][\"item_cnt_day\"]\n",
    "    X_test = data.loc[test_index:].drop([\"item_cnt_day\"], axis=1)\n",
    "    y_test = data.loc[test_index:][\"item_cnt_day\"]\n",
    "\n",
    "    return X_train, X_test, y_train, y_test"
   ]
  },
  {
   "cell_type": "code",
   "execution_count": 99,
   "id": "bed60187",
   "metadata": {},
   "outputs": [],
   "source": [
    "def train_model(trial):\n",
    "    train_x, valid_x, train_y, valid_y = preprocess_data(sales_gr1, test_size=0.1, lag_start=12, lag_end=48)\n",
    "    \n",
    "    params = {\n",
    "        \"objective\": trial.suggest_categorical(\"loss_function\", [\"RMSE\"]),\n",
    "        \"learning_rate\": trial.suggest_float(\"learning_rate\", 0.001, 0.1),\n",
    "        \"num_trees\": trial.suggest_int(\"num_tree\", 1, 100),\n",
    "        \"depth\": trial.suggest_int(\"depth\", 1, 10),\n",
    "        \"boosting_type\": trial.suggest_categorical(\"boosting_type\", [\"Ordered\", \"Plain\"]),\n",
    "        \"bootstrap_type\": trial.suggest_categorical(\n",
    "            \"bootstrap_type\", [\"Bayesian\", \"Bernoulli\"]\n",
    "        ),\n",
    "    }\n",
    "\n",
    "    if params[\"bootstrap_type\"] == \"Bayesian\":\n",
    "        params[\"bagging_temperature\"] = trial.suggest_float(\"bagging_temperature\", 0, 10)\n",
    "    elif params[\"bootstrap_type\"] == \"Bernoulli\":\n",
    "        params[\"subsample\"] = trial.suggest_float(\"subsample\", 0.1, 1)\n",
    "\n",
    "    gbm = CatBoostRegressor(**params)\n",
    "\n",
    "    gbm.fit(train_x, train_y, eval_set=[(valid_x, valid_y)], verbose=0, early_stopping_rounds=100)\n",
    "\n",
    "    preds = gbm.predict(valid_x)\n",
    "    \n",
    "    mape_errors = mean_absolute_percentage_error(valid_y, preds)\n",
    "    print(f'MAPE: {mape_errors}')\n",
    "    \n",
    "    return mape_errors "
   ]
  },
  {
   "cell_type": "code",
   "execution_count": 100,
   "id": "8f006ad3",
   "metadata": {},
   "outputs": [
    {
     "name": "stderr",
     "output_type": "stream",
     "text": [
      "\u001b[32m[I 2025-06-02 00:45:15,289]\u001b[0m A new study created in memory with name: no-name-fee0cc51-a57f-4183-9a9a-2c77a199abab\u001b[0m\n",
      "/tmp/ipykernel_2486/1239191499.py:12: FutureWarning: weekofyear and week have been deprecated, please use DatetimeIndex.isocalendar().week instead, which returns a Series. To exactly reproduce the behavior of week and weekofyear and return an Index, you may call pd.Int64Index(idx.isocalendar().week)\n",
      "  data[\"week\"] = data.index.week\n",
      "\u001b[32m[I 2025-06-02 00:45:17,970]\u001b[0m Trial 0 finished with value: 0.2921658407689301 and parameters: {'loss_function': 'RMSE', 'learning_rate': 0.06145269546122653, 'num_tree': 85, 'depth': 9, 'boosting_type': 'Plain', 'bootstrap_type': 'Bernoulli', 'subsample': 0.7113495844400867}. Best is trial 0 with value: 0.2921658407689301.\u001b[0m\n",
      "/tmp/ipykernel_2486/1239191499.py:12: FutureWarning: weekofyear and week have been deprecated, please use DatetimeIndex.isocalendar().week instead, which returns a Series. To exactly reproduce the behavior of week and weekofyear and return an Index, you may call pd.Int64Index(idx.isocalendar().week)\n",
      "  data[\"week\"] = data.index.week\n",
      "\u001b[32m[I 2025-06-02 00:45:18,164]\u001b[0m Trial 1 finished with value: 0.43041372215795554 and parameters: {'loss_function': 'RMSE', 'learning_rate': 0.038301242686407375, 'num_tree': 25, 'depth': 4, 'boosting_type': 'Ordered', 'bootstrap_type': 'Bernoulli', 'subsample': 0.9063342104575225}. Best is trial 0 with value: 0.2921658407689301.\u001b[0m\n"
     ]
    },
    {
     "name": "stdout",
     "output_type": "stream",
     "text": [
      "MAPE: 0.2921658407689301\n",
      "MAPE: 0.43041372215795554\n"
     ]
    },
    {
     "name": "stderr",
     "output_type": "stream",
     "text": [
      "/tmp/ipykernel_2486/1239191499.py:12: FutureWarning: weekofyear and week have been deprecated, please use DatetimeIndex.isocalendar().week instead, which returns a Series. To exactly reproduce the behavior of week and weekofyear and return an Index, you may call pd.Int64Index(idx.isocalendar().week)\n",
      "  data[\"week\"] = data.index.week\n",
      "\u001b[32m[I 2025-06-02 00:45:18,242]\u001b[0m Trial 2 finished with value: 0.48634949407912487 and parameters: {'loss_function': 'RMSE', 'learning_rate': 0.07934763106384572, 'num_tree': 21, 'depth': 1, 'boosting_type': 'Ordered', 'bootstrap_type': 'Bayesian', 'bagging_temperature': 3.541763844411787}. Best is trial 0 with value: 0.2921658407689301.\u001b[0m\n",
      "/tmp/ipykernel_2486/1239191499.py:12: FutureWarning: weekofyear and week have been deprecated, please use DatetimeIndex.isocalendar().week instead, which returns a Series. To exactly reproduce the behavior of week and weekofyear and return an Index, you may call pd.Int64Index(idx.isocalendar().week)\n",
      "  data[\"week\"] = data.index.week\n",
      "\u001b[32m[I 2025-06-02 00:45:18,336]\u001b[0m Trial 3 finished with value: 0.48824663962976766 and parameters: {'loss_function': 'RMSE', 'learning_rate': 0.039324969948825665, 'num_tree': 18, 'depth': 5, 'boosting_type': 'Plain', 'bootstrap_type': 'Bernoulli', 'subsample': 0.5622539411560484}. Best is trial 0 with value: 0.2921658407689301.\u001b[0m\n",
      "/tmp/ipykernel_2486/1239191499.py:12: FutureWarning: weekofyear and week have been deprecated, please use DatetimeIndex.isocalendar().week instead, which returns a Series. To exactly reproduce the behavior of week and weekofyear and return an Index, you may call pd.Int64Index(idx.isocalendar().week)\n",
      "  data[\"week\"] = data.index.week\n",
      "\u001b[32m[I 2025-06-02 00:45:18,437]\u001b[0m Trial 4 finished with value: 0.40267675992571816 and parameters: {'loss_function': 'RMSE', 'learning_rate': 0.06324923963557812, 'num_tree': 19, 'depth': 5, 'boosting_type': 'Plain', 'bootstrap_type': 'Bernoulli', 'subsample': 0.9918048578507469}. Best is trial 0 with value: 0.2921658407689301.\u001b[0m\n"
     ]
    },
    {
     "name": "stdout",
     "output_type": "stream",
     "text": [
      "MAPE: 0.48634949407912487\n",
      "MAPE: 0.48824663962976766\n",
      "MAPE: 0.40267675992571816\n"
     ]
    },
    {
     "name": "stderr",
     "output_type": "stream",
     "text": [
      "/tmp/ipykernel_2486/1239191499.py:12: FutureWarning: weekofyear and week have been deprecated, please use DatetimeIndex.isocalendar().week instead, which returns a Series. To exactly reproduce the behavior of week and weekofyear and return an Index, you may call pd.Int64Index(idx.isocalendar().week)\n",
      "  data[\"week\"] = data.index.week\n",
      "\u001b[32m[I 2025-06-02 00:45:18,552]\u001b[0m Trial 5 finished with value: 0.5706489698657601 and parameters: {'loss_function': 'RMSE', 'learning_rate': 0.010748422549889277, 'num_tree': 44, 'depth': 2, 'boosting_type': 'Ordered', 'bootstrap_type': 'Bernoulli', 'subsample': 0.6255774019751588}. Best is trial 0 with value: 0.2921658407689301.\u001b[0m\n",
      "/tmp/ipykernel_2486/1239191499.py:12: FutureWarning: weekofyear and week have been deprecated, please use DatetimeIndex.isocalendar().week instead, which returns a Series. To exactly reproduce the behavior of week and weekofyear and return an Index, you may call pd.Int64Index(idx.isocalendar().week)\n",
      "  data[\"week\"] = data.index.week\n"
     ]
    },
    {
     "name": "stdout",
     "output_type": "stream",
     "text": [
      "MAPE: 0.5706489698657601\n"
     ]
    },
    {
     "name": "stderr",
     "output_type": "stream",
     "text": [
      "\u001b[32m[I 2025-06-02 00:45:18,943]\u001b[0m Trial 6 finished with value: 0.27406600088697014 and parameters: {'loss_function': 'RMSE', 'learning_rate': 0.08549438764806788, 'num_tree': 95, 'depth': 6, 'boosting_type': 'Plain', 'bootstrap_type': 'Bernoulli', 'subsample': 0.5662704573063043}. Best is trial 6 with value: 0.27406600088697014.\u001b[0m\n"
     ]
    },
    {
     "name": "stdout",
     "output_type": "stream",
     "text": [
      "MAPE: 0.27406600088697014\n"
     ]
    },
    {
     "name": "stderr",
     "output_type": "stream",
     "text": [
      "/tmp/ipykernel_2486/1239191499.py:12: FutureWarning: weekofyear and week have been deprecated, please use DatetimeIndex.isocalendar().week instead, which returns a Series. To exactly reproduce the behavior of week and weekofyear and return an Index, you may call pd.Int64Index(idx.isocalendar().week)\n",
      "  data[\"week\"] = data.index.week\n",
      "\u001b[32m[I 2025-06-02 00:45:20,759]\u001b[0m Trial 7 finished with value: 0.3998757420664901 and parameters: {'loss_function': 'RMSE', 'learning_rate': 0.036380237669381234, 'num_tree': 39, 'depth': 10, 'boosting_type': 'Plain', 'bootstrap_type': 'Bernoulli', 'subsample': 0.36577117072842324}. Best is trial 6 with value: 0.27406600088697014.\u001b[0m\n",
      "/tmp/ipykernel_2486/1239191499.py:12: FutureWarning: weekofyear and week have been deprecated, please use DatetimeIndex.isocalendar().week instead, which returns a Series. To exactly reproduce the behavior of week and weekofyear and return an Index, you may call pd.Int64Index(idx.isocalendar().week)\n",
      "  data[\"week\"] = data.index.week\n",
      "\u001b[32m[I 2025-06-02 00:45:20,843]\u001b[0m Trial 8 finished with value: 0.42680759587999506 and parameters: {'loss_function': 'RMSE', 'learning_rate': 0.045922823633259384, 'num_tree': 52, 'depth': 1, 'boosting_type': 'Ordered', 'bootstrap_type': 'Bayesian', 'bagging_temperature': 3.7010077005589004}. Best is trial 6 with value: 0.27406600088697014.\u001b[0m\n"
     ]
    },
    {
     "name": "stdout",
     "output_type": "stream",
     "text": [
      "MAPE: 0.3998757420664901\n",
      "MAPE: 0.42680759587999506\n"
     ]
    },
    {
     "name": "stderr",
     "output_type": "stream",
     "text": [
      "/tmp/ipykernel_2486/1239191499.py:12: FutureWarning: weekofyear and week have been deprecated, please use DatetimeIndex.isocalendar().week instead, which returns a Series. To exactly reproduce the behavior of week and weekofyear and return an Index, you may call pd.Int64Index(idx.isocalendar().week)\n",
      "  data[\"week\"] = data.index.week\n",
      "\u001b[32m[I 2025-06-02 00:45:20,983]\u001b[0m Trial 9 finished with value: 0.3484779063656106 and parameters: {'loss_function': 'RMSE', 'learning_rate': 0.061832094135237395, 'num_tree': 35, 'depth': 3, 'boosting_type': 'Ordered', 'bootstrap_type': 'Bayesian', 'bagging_temperature': 3.993011706742556}. Best is trial 6 with value: 0.27406600088697014.\u001b[0m\n",
      "/tmp/ipykernel_2486/1239191499.py:12: FutureWarning: weekofyear and week have been deprecated, please use DatetimeIndex.isocalendar().week instead, which returns a Series. To exactly reproduce the behavior of week and weekofyear and return an Index, you may call pd.Int64Index(idx.isocalendar().week)\n",
      "  data[\"week\"] = data.index.week\n"
     ]
    },
    {
     "name": "stdout",
     "output_type": "stream",
     "text": [
      "MAPE: 0.3484779063656106\n"
     ]
    },
    {
     "name": "stderr",
     "output_type": "stream",
     "text": [
      "\u001b[32m[I 2025-06-02 00:45:21,764]\u001b[0m Trial 10 finished with value: 0.29442056217962076 and parameters: {'loss_function': 'RMSE', 'learning_rate': 0.09882287557867153, 'num_tree': 99, 'depth': 7, 'boosting_type': 'Plain', 'bootstrap_type': 'Bayesian', 'bagging_temperature': 9.932986250358208}. Best is trial 6 with value: 0.27406600088697014.\u001b[0m\n"
     ]
    },
    {
     "name": "stdout",
     "output_type": "stream",
     "text": [
      "MAPE: 0.29442056217962076\n"
     ]
    },
    {
     "name": "stderr",
     "output_type": "stream",
     "text": [
      "/tmp/ipykernel_2486/1239191499.py:12: FutureWarning: weekofyear and week have been deprecated, please use DatetimeIndex.isocalendar().week instead, which returns a Series. To exactly reproduce the behavior of week and weekofyear and return an Index, you may call pd.Int64Index(idx.isocalendar().week)\n",
      "  data[\"week\"] = data.index.week\n",
      "\u001b[32m[I 2025-06-02 00:45:23,271]\u001b[0m Trial 11 finished with value: 0.28598274580512434 and parameters: {'loss_function': 'RMSE', 'learning_rate': 0.08728268471263667, 'num_tree': 96, 'depth': 8, 'boosting_type': 'Plain', 'bootstrap_type': 'Bernoulli', 'subsample': 0.7062135155165212}. Best is trial 6 with value: 0.27406600088697014.\u001b[0m\n"
     ]
    },
    {
     "name": "stdout",
     "output_type": "stream",
     "text": [
      "MAPE: 0.28598274580512434\n"
     ]
    },
    {
     "name": "stderr",
     "output_type": "stream",
     "text": [
      "/tmp/ipykernel_2486/1239191499.py:12: FutureWarning: weekofyear and week have been deprecated, please use DatetimeIndex.isocalendar().week instead, which returns a Series. To exactly reproduce the behavior of week and weekofyear and return an Index, you may call pd.Int64Index(idx.isocalendar().week)\n",
      "  data[\"week\"] = data.index.week\n",
      "\u001b[32m[I 2025-06-02 00:45:23,869]\u001b[0m Trial 12 finished with value: 0.27377577830266264 and parameters: {'loss_function': 'RMSE', 'learning_rate': 0.09952515344680748, 'num_tree': 73, 'depth': 7, 'boosting_type': 'Plain', 'bootstrap_type': 'Bernoulli', 'subsample': 0.18845315027899234}. Best is trial 12 with value: 0.27377577830266264.\u001b[0m\n"
     ]
    },
    {
     "name": "stdout",
     "output_type": "stream",
     "text": [
      "MAPE: 0.27377577830266264\n"
     ]
    },
    {
     "name": "stderr",
     "output_type": "stream",
     "text": [
      "/tmp/ipykernel_2486/1239191499.py:12: FutureWarning: weekofyear and week have been deprecated, please use DatetimeIndex.isocalendar().week instead, which returns a Series. To exactly reproduce the behavior of week and weekofyear and return an Index, you may call pd.Int64Index(idx.isocalendar().week)\n",
      "  data[\"week\"] = data.index.week\n",
      "\u001b[32m[I 2025-06-02 00:45:24,387]\u001b[0m Trial 13 finished with value: 0.2894840841288112 and parameters: {'loss_function': 'RMSE', 'learning_rate': 0.09836707502777471, 'num_tree': 71, 'depth': 7, 'boosting_type': 'Plain', 'bootstrap_type': 'Bernoulli', 'subsample': 0.11245728315419896}. Best is trial 12 with value: 0.27377577830266264.\u001b[0m\n"
     ]
    },
    {
     "name": "stdout",
     "output_type": "stream",
     "text": [
      "MAPE: 0.2894840841288112\n"
     ]
    },
    {
     "name": "stderr",
     "output_type": "stream",
     "text": [
      "/tmp/ipykernel_2486/1239191499.py:12: FutureWarning: weekofyear and week have been deprecated, please use DatetimeIndex.isocalendar().week instead, which returns a Series. To exactly reproduce the behavior of week and weekofyear and return an Index, you may call pd.Int64Index(idx.isocalendar().week)\n",
      "  data[\"week\"] = data.index.week\n",
      "\u001b[32m[I 2025-06-02 00:45:24,958]\u001b[0m Trial 14 finished with value: 0.27746652600843413 and parameters: {'loss_function': 'RMSE', 'learning_rate': 0.07847712042604199, 'num_tree': 67, 'depth': 7, 'boosting_type': 'Plain', 'bootstrap_type': 'Bernoulli', 'subsample': 0.34856542913425803}. Best is trial 12 with value: 0.27377577830266264.\u001b[0m\n"
     ]
    },
    {
     "name": "stdout",
     "output_type": "stream",
     "text": [
      "MAPE: 0.27746652600843413\n"
     ]
    },
    {
     "name": "stderr",
     "output_type": "stream",
     "text": [
      "/tmp/ipykernel_2486/1239191499.py:12: FutureWarning: weekofyear and week have been deprecated, please use DatetimeIndex.isocalendar().week instead, which returns a Series. To exactly reproduce the behavior of week and weekofyear and return an Index, you may call pd.Int64Index(idx.isocalendar().week)\n",
      "  data[\"week\"] = data.index.week\n",
      "\u001b[32m[I 2025-06-02 00:45:25,322]\u001b[0m Trial 15 finished with value: 0.2927701984401516 and parameters: {'loss_function': 'RMSE', 'learning_rate': 0.08553553508511168, 'num_tree': 78, 'depth': 6, 'boosting_type': 'Plain', 'bootstrap_type': 'Bernoulli', 'subsample': 0.36764067549187973}. Best is trial 12 with value: 0.27377577830266264.\u001b[0m\n"
     ]
    },
    {
     "name": "stdout",
     "output_type": "stream",
     "text": [
      "MAPE: 0.2927701984401516\n"
     ]
    },
    {
     "name": "stderr",
     "output_type": "stream",
     "text": [
      "/tmp/ipykernel_2486/1239191499.py:12: FutureWarning: weekofyear and week have been deprecated, please use DatetimeIndex.isocalendar().week instead, which returns a Series. To exactly reproduce the behavior of week and weekofyear and return an Index, you may call pd.Int64Index(idx.isocalendar().week)\n",
      "  data[\"week\"] = data.index.week\n",
      "\u001b[32m[I 2025-06-02 00:45:27,235]\u001b[0m Trial 16 finished with value: 0.5932547515594372 and parameters: {'loss_function': 'RMSE', 'learning_rate': 0.005286876829819098, 'num_tree': 58, 'depth': 9, 'boosting_type': 'Plain', 'bootstrap_type': 'Bernoulli', 'subsample': 0.20536971911675372}. Best is trial 12 with value: 0.27377577830266264.\u001b[0m\n"
     ]
    },
    {
     "name": "stdout",
     "output_type": "stream",
     "text": [
      "MAPE: 0.5932547515594372\n"
     ]
    },
    {
     "name": "stderr",
     "output_type": "stream",
     "text": [
      "/tmp/ipykernel_2486/1239191499.py:12: FutureWarning: weekofyear and week have been deprecated, please use DatetimeIndex.isocalendar().week instead, which returns a Series. To exactly reproduce the behavior of week and weekofyear and return an Index, you may call pd.Int64Index(idx.isocalendar().week)\n",
      "  data[\"week\"] = data.index.week\n",
      "\u001b[32m[I 2025-06-02 00:45:27,659]\u001b[0m Trial 17 finished with value: 0.26982441889452613 and parameters: {'loss_function': 'RMSE', 'learning_rate': 0.07273487995398863, 'num_tree': 87, 'depth': 6, 'boosting_type': 'Plain', 'bootstrap_type': 'Bernoulli', 'subsample': 0.47955517405643944}. Best is trial 17 with value: 0.26982441889452613.\u001b[0m\n",
      "/tmp/ipykernel_2486/1239191499.py:12: FutureWarning: weekofyear and week have been deprecated, please use DatetimeIndex.isocalendar().week instead, which returns a Series. To exactly reproduce the behavior of week and weekofyear and return an Index, you may call pd.Int64Index(idx.isocalendar().week)\n",
      "  data[\"week\"] = data.index.week\n",
      "\u001b[32m[I 2025-06-02 00:45:27,847]\u001b[0m Trial 18 finished with value: 0.27769989720806737 and parameters: {'loss_function': 'RMSE', 'learning_rate': 0.07283412403983448, 'num_tree': 84, 'depth': 4, 'boosting_type': 'Plain', 'bootstrap_type': 'Bayesian', 'bagging_temperature': 0.1505755119457266}. Best is trial 17 with value: 0.26982441889452613.\u001b[0m\n"
     ]
    },
    {
     "name": "stdout",
     "output_type": "stream",
     "text": [
      "MAPE: 0.26982441889452613\n",
      "MAPE: 0.27769989720806737\n"
     ]
    },
    {
     "name": "stderr",
     "output_type": "stream",
     "text": [
      "/tmp/ipykernel_2486/1239191499.py:12: FutureWarning: weekofyear and week have been deprecated, please use DatetimeIndex.isocalendar().week instead, which returns a Series. To exactly reproduce the behavior of week and weekofyear and return an Index, you may call pd.Int64Index(idx.isocalendar().week)\n",
      "  data[\"week\"] = data.index.week\n",
      "\u001b[32m[I 2025-06-02 00:45:28,795]\u001b[0m Trial 19 finished with value: 0.3895530026877862 and parameters: {'loss_function': 'RMSE', 'learning_rate': 0.02342021667589182, 'num_tree': 58, 'depth': 8, 'boosting_type': 'Plain', 'bootstrap_type': 'Bernoulli', 'subsample': 0.2676307910781812}. Best is trial 17 with value: 0.26982441889452613.\u001b[0m\n"
     ]
    },
    {
     "name": "stdout",
     "output_type": "stream",
     "text": [
      "MAPE: 0.3895530026877862\n",
      "Number of finished trials: 20\n",
      "Best trial:\n",
      "  Value: 0.26982441889452613\n",
      "  Params: \n",
      "    loss_function: RMSE\n",
      "    learning_rate: 0.07273487995398863\n",
      "    num_tree: 87\n",
      "    depth: 6\n",
      "    boosting_type: Plain\n",
      "    bootstrap_type: Bernoulli\n",
      "    subsample: 0.47955517405643944\n"
     ]
    }
   ],
   "source": [
    "study = optuna.create_study(direction=\"minimize\")\n",
    "study.optimize(train_model, n_trials=20, timeout=100)\n",
    "\n",
    "print(f\"Number of finished trials: {len(study.trials)}\")\n",
    "\n",
    "print(\"Best trial:\")\n",
    "trial = study.best_trial\n",
    "\n",
    "print(f\"  Value: {trial.value}\")\n",
    "\n",
    "print(\"  Params: \")\n",
    "for key, value in trial.params.items():\n",
    "    print(\"    {}: {}\".format(key, value))"
   ]
  }
 ],
 "metadata": {
  "kernelspec": {
   "display_name": "Python 3 (ipykernel)",
   "language": "python",
   "name": "python3"
  },
  "language_info": {
   "codemirror_mode": {
    "name": "ipython",
    "version": 3
   },
   "file_extension": ".py",
   "mimetype": "text/x-python",
   "name": "python",
   "nbconvert_exporter": "python",
   "pygments_lexer": "ipython3",
   "version": "3.10.12"
  }
 },
 "nbformat": 4,
 "nbformat_minor": 5
}
